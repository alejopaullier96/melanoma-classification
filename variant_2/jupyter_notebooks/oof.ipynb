{
 "cells": [
  {
   "cell_type": "markdown",
   "id": "7bd4691c",
   "metadata": {},
   "source": [
    "### Import libraries"
   ]
  },
  {
   "cell_type": "code",
   "execution_count": 10,
   "id": "5f98cac4",
   "metadata": {},
   "outputs": [],
   "source": [
    "import pandas as pd\n",
    "import matplotlib.pyplot as plt\n",
    "import os\n",
    "import numpy as np\n",
    "import seaborn as sns\n",
    "\n",
    "\n",
    "from pathlib import Path"
   ]
  },
  {
   "cell_type": "markdown",
   "id": "08ffc31e",
   "metadata": {},
   "source": [
    "### Load data"
   ]
  },
  {
   "cell_type": "code",
   "execution_count": 13,
   "id": "f812ede2",
   "metadata": {},
   "outputs": [],
   "source": [
    "path = Path(os.getcwd())\n",
    "parent_path = str(path.parent.absolute())\n",
    "train_df = pd.read_csv(parent_path + \"/container/data/train.csv\", sep = ',')\n",
    "roc = pd.read_csv(\"oof-variant-1.csv\", sep = ',')\n",
    "prauc = pd.read_csv(\"oof-variant-2.csv\", sep = ',')\n",
    "predictions = pd.read_csv(\"predictions-variant-2.csv\", sep = ',')\n",
    "roc.columns = [\"oof\"]\n",
    "prauc.columns = [\"oof\"]"
   ]
  },
  {
   "cell_type": "markdown",
   "id": "59fd69d4",
   "metadata": {},
   "source": [
    "### OOF histogram variant 1"
   ]
  },
  {
   "cell_type": "code",
   "execution_count": 56,
   "id": "e4bc61eb",
   "metadata": {},
   "outputs": [
    {
     "data": {
      "text/plain": [
       "Text(0.5, 1.0, 'Model predictions histogram')"
      ]
     },
     "execution_count": 56,
     "metadata": {},
     "output_type": "execute_result"
    },
    {
     "data": {
      "image/png": "[encoded data removed]",
      "text/plain": [
       "<Figure size 432x288 with 1 Axes>"
      ]
     },
     "metadata": {
      "needs_background": "light"
     },
     "output_type": "display_data"
    }
   ],
   "source": [
    "plt.hist(roc[\"oof\"])\n",
    "plt.xlabel(\"Model prediction\")\n",
    "plt.ylabel(\"Frequency\")\n",
    "plt.title(\"Model predictions histogram\")"
   ]
  },
  {
   "cell_type": "markdown",
   "id": "1e768d2a",
   "metadata": {},
   "source": [
    "### OOF histogram variant 2"
   ]
  },
  {
   "cell_type": "code",
   "execution_count": 4,
   "id": "64dc0bac",
   "metadata": {},
   "outputs": [
    {
     "data": {
      "text/plain": [
       "(array([31616.,   744.,   277.,   200.,   145.,   135.,    78.,    98.,\n",
       "          122.,  4233.]),\n",
       " array([0. , 0.1, 0.2, 0.3, 0.4, 0.5, 0.6, 0.7, 0.8, 0.9, 1. ]),\n",
       " <BarContainer object of 10 artists>)"
      ]
     },
     "execution_count": 4,
     "metadata": {},
     "output_type": "execute_result"
    },
    {
     "data": {
      "image/png": "[encoded data removed]",
      "text/plain": [
       "<Figure size 432x288 with 1 Axes>"
      ]
     },
     "metadata": {
      "needs_background": "light"
     },
     "output_type": "display_data"
    }
   ],
   "source": [
    "plt.hist(prauc[\"oof\"])\n",
    "plt.xlabel(\"Model prediction\")\n",
    "plt.ylabel(\"Frequency\")\n",
    "plt.title(\"Model predictions histogram\")"
   ]
  },
  {
   "cell_type": "markdown",
   "id": "e5dcda01",
   "metadata": {},
   "source": [
    "### AUC for variants"
   ]
  },
  {
   "cell_type": "code",
   "execution_count": 17,
   "id": "1717ebd7",
   "metadata": {},
   "outputs": [
    {
     "name": "stdout",
     "output_type": "stream",
     "text": [
      "OOF variant 1 AUC: 0.961\n",
      "OOF variant 2 AUC: 0.972\n"
     ]
    }
   ],
   "source": [
    "from sklearn.metrics import accuracy_score, roc_auc_score, confusion_matrix\n",
    "\n",
    "# ROC on full Training data\n",
    "print('OOF variant 1 AUC: {:.3f}'.format(roc_auc_score(train_df['target'], roc)))\n",
    "print('OOF variant 2 AUC: {:.3f}'.format(roc_auc_score(train_df['target'], prauc)))"
   ]
  },
  {
   "cell_type": "markdown",
   "id": "7cf2509a",
   "metadata": {},
   "source": [
    "### Data processing"
   ]
  },
  {
   "cell_type": "code",
   "execution_count": 18,
   "id": "1a09b47e",
   "metadata": {},
   "outputs": [
    {
     "data": {
      "text/html": [
       "<div>\n",
       "<style scoped>\n",
       "    .dataframe tbody tr th:only-of-type {\n",
       "        vertical-align: middle;\n",
       "    }\n",
       "\n",
       "    .dataframe tbody tr th {\n",
       "        vertical-align: top;\n",
       "    }\n",
       "\n",
       "    .dataframe thead th {\n",
       "        text-align: right;\n",
       "    }\n",
       "</style>\n",
       "<table border=\"1\" class=\"dataframe\">\n",
       "  <thead>\n",
       "    <tr style=\"text-align: right;\">\n",
       "      <th></th>\n",
       "      <th>y_pred</th>\n",
       "      <th>y_pred_binary</th>\n",
       "      <th>image_id</th>\n",
       "      <th>patient_id</th>\n",
       "      <th>sex</th>\n",
       "      <th>age</th>\n",
       "      <th>anatomy</th>\n",
       "      <th>target</th>\n",
       "    </tr>\n",
       "  </thead>\n",
       "  <tbody>\n",
       "    <tr>\n",
       "      <th>0</th>\n",
       "      <td>2.091616e-03</td>\n",
       "      <td>0</td>\n",
       "      <td>ISIC_2637011</td>\n",
       "      <td>IP_7279968</td>\n",
       "      <td>1</td>\n",
       "      <td>45.0</td>\n",
       "      <td>0</td>\n",
       "      <td>0</td>\n",
       "    </tr>\n",
       "    <tr>\n",
       "      <th>1</th>\n",
       "      <td>1.907987e-03</td>\n",
       "      <td>0</td>\n",
       "      <td>ISIC_0015719</td>\n",
       "      <td>IP_3075186</td>\n",
       "      <td>0</td>\n",
       "      <td>45.0</td>\n",
       "      <td>5</td>\n",
       "      <td>0</td>\n",
       "    </tr>\n",
       "    <tr>\n",
       "      <th>2</th>\n",
       "      <td>1.295294e-03</td>\n",
       "      <td>0</td>\n",
       "      <td>ISIC_0052212</td>\n",
       "      <td>IP_2842074</td>\n",
       "      <td>0</td>\n",
       "      <td>50.0</td>\n",
       "      <td>1</td>\n",
       "      <td>0</td>\n",
       "    </tr>\n",
       "    <tr>\n",
       "      <th>3</th>\n",
       "      <td>1.079635e-01</td>\n",
       "      <td>0</td>\n",
       "      <td>ISIC_0068279</td>\n",
       "      <td>IP_6890425</td>\n",
       "      <td>0</td>\n",
       "      <td>45.0</td>\n",
       "      <td>0</td>\n",
       "      <td>0</td>\n",
       "    </tr>\n",
       "    <tr>\n",
       "      <th>4</th>\n",
       "      <td>3.634175e-07</td>\n",
       "      <td>0</td>\n",
       "      <td>ISIC_0074268</td>\n",
       "      <td>IP_8723313</td>\n",
       "      <td>0</td>\n",
       "      <td>55.0</td>\n",
       "      <td>5</td>\n",
       "      <td>0</td>\n",
       "    </tr>\n",
       "  </tbody>\n",
       "</table>\n",
       "</div>"
      ],
      "text/plain": [
       "         y_pred  y_pred_binary      image_id  patient_id  sex   age  anatomy  \\\n",
       "0  2.091616e-03              0  ISIC_2637011  IP_7279968    1  45.0        0   \n",
       "1  1.907987e-03              0  ISIC_0015719  IP_3075186    0  45.0        5   \n",
       "2  1.295294e-03              0  ISIC_0052212  IP_2842074    0  50.0        1   \n",
       "3  1.079635e-01              0  ISIC_0068279  IP_6890425    0  45.0        0   \n",
       "4  3.634175e-07              0  ISIC_0074268  IP_8723313    0  55.0        5   \n",
       "\n",
       "   target  \n",
       "0       0  \n",
       "1       0  \n",
       "2       0  \n",
       "3       0  \n",
       "4       0  "
      ]
     },
     "execution_count": 18,
     "metadata": {},
     "output_type": "execute_result"
    }
   ],
   "source": [
    "df = pd.DataFrame()\n",
    "df[\"y_pred\"] = roc[\"oof\"]\n",
    "def binarize(x):\n",
    "    if x >= 0.5:\n",
    "        x = 1\n",
    "    else:\n",
    "        x = 0\n",
    "    return x\n",
    "df[\"y_pred_binary\"] = df[\"y_pred\"].apply(lambda x: binarize(x))\n",
    "df = pd.concat([df,train_df],axis=1)\n",
    "df.reset_index(inplace=True, drop=True)\n",
    "df.head()"
   ]
  },
  {
   "cell_type": "markdown",
   "id": "33d88afb",
   "metadata": {},
   "source": [
    "### Variant 1 confusion matrix"
   ]
  },
  {
   "cell_type": "code",
   "execution_count": 6,
   "id": "38988998",
   "metadata": {},
   "outputs": [
    {
     "data": {
      "text/plain": [
       "<AxesSubplot:>"
      ]
     },
     "execution_count": 6,
     "metadata": {},
     "output_type": "execute_result"
    },
    {
     "data": {
      "image/png": "[encoded data removed]",
      "text/plain": [
       "<Figure size 1152x360 with 1 Axes>"
      ]
     },
     "metadata": {
      "needs_background": "light"
     },
     "output_type": "display_data"
    }
   ],
   "source": [
    "# Make OOF Binary\n",
    "roc.loc[roc.oof >= 0.5, 'oof'] = 1\n",
    "roc.loc[roc.oof < 0.5, 'oof'] = 0\n",
    "\n",
    "# Create Confusion Matrix\n",
    "cf_matrix = confusion_matrix(train_df['target'], roc)\n",
    "\n",
    "# Pretty CM:\n",
    "group_names = ['True Neg','False Pos','False Neg','True Pos']\n",
    "# Format of the absolute numbers\n",
    "group_counts = ['{:,}'.format(value) for value in cf_matrix.flatten()]\n",
    "# Format for relative numbers\n",
    "group_percentages = ['{0:.1%}'.format(value) for value in cf_matrix.flatten()/np.sum(cf_matrix)]\n",
    "\n",
    "labels = [f'{v1}\\n{v2}\\n{v3}' for v1, v2, v3 in zip(group_names,group_counts,group_percentages)]\n",
    "labels = np.asarray(labels).reshape(2,2)\n",
    "\n",
    "# --- The figure ---\n",
    "plt.figure(figsize=(16, 5))\n",
    "sns.heatmap(cf_matrix, annot=labels, fmt='', cmap='Oranges',xticklabels=['benign', 'malignant'], \n",
    "            yticklabels=['benign', 'malignant'], cbar=False)plt.hist(roc[\"oof\"])"
   ]
  },
  {
   "cell_type": "markdown",
   "id": "514d5c54",
   "metadata": {},
   "source": [
    "### True positives, False Positives, True Negatives, False Negatives"
   ]
  },
  {
   "cell_type": "code",
   "execution_count": 33,
   "id": "af5cee4f",
   "metadata": {},
   "outputs": [],
   "source": [
    "TP = []\n",
    "FP = []\n",
    "TN = []\n",
    "FN = []\n",
    "\n",
    "for index, row in df.iterrows():\n",
    "    y_pred = row[\"y_pred_binary\"]\n",
    "    y_true = row[\"target\"]\n",
    "    if y_true == y_pred == 1:\n",
    "        TP.append(row)\n",
    "    if y_pred==1 and y_true!=y_pred:\n",
    "        FP.append(row)\n",
    "    if y_true==y_pred==0:\n",
    "        TN.append(row)\n",
    "    if y_pred==0 and y_true!=y_pred:\n",
    "        FN.append(row)\n",
    "        \n",
    "TP = pd.DataFrame(TP)\n",
    "FP = pd.DataFrame(FP)\n",
    "TN = pd.DataFrame(TN)\n",
    "FN = pd.DataFrame(FN)"
   ]
  },
  {
   "cell_type": "markdown",
   "id": "d0a8eef8",
   "metadata": {},
   "source": [
    "### Display small samples"
   ]
  },
  {
   "cell_type": "code",
   "execution_count": 35,
   "id": "7d07e862",
   "metadata": {},
   "outputs": [
    {
     "name": "stdout",
     "output_type": "stream",
     "text": [
      "True negatives:\n"
     ]
    },
    {
     "data": {
      "text/html": [
       "<div>\n",
       "<style scoped>\n",
       "    .dataframe tbody tr th:only-of-type {\n",
       "        vertical-align: middle;\n",
       "    }\n",
       "\n",
       "    .dataframe tbody tr th {\n",
       "        vertical-align: top;\n",
       "    }\n",
       "\n",
       "    .dataframe thead th {\n",
       "        text-align: right;\n",
       "    }\n",
       "</style>\n",
       "<table border=\"1\" class=\"dataframe\">\n",
       "  <thead>\n",
       "    <tr style=\"text-align: right;\">\n",
       "      <th></th>\n",
       "      <th>y_pred</th>\n",
       "      <th>y_pred_binary</th>\n",
       "      <th>image_id</th>\n",
       "      <th>patient_id</th>\n",
       "      <th>sex</th>\n",
       "      <th>age</th>\n",
       "      <th>anatomy</th>\n",
       "      <th>target</th>\n",
       "    </tr>\n",
       "  </thead>\n",
       "  <tbody>\n",
       "    <tr>\n",
       "      <th>19232</th>\n",
       "      <td>0.0</td>\n",
       "      <td>0</td>\n",
       "      <td>ISIC_5836421</td>\n",
       "      <td>IP_9453080</td>\n",
       "      <td>0</td>\n",
       "      <td>55.0</td>\n",
       "      <td>5</td>\n",
       "      <td>0</td>\n",
       "    </tr>\n",
       "    <tr>\n",
       "      <th>13912</th>\n",
       "      <td>0.0</td>\n",
       "      <td>0</td>\n",
       "      <td>ISIC_4266571</td>\n",
       "      <td>IP_6323321</td>\n",
       "      <td>1</td>\n",
       "      <td>35.0</td>\n",
       "      <td>4</td>\n",
       "      <td>0</td>\n",
       "    </tr>\n",
       "  </tbody>\n",
       "</table>\n",
       "</div>"
      ],
      "text/plain": [
       "       y_pred  y_pred_binary      image_id  patient_id  sex   age  anatomy  \\\n",
       "19232     0.0              0  ISIC_5836421  IP_9453080    0  55.0        5   \n",
       "13912     0.0              0  ISIC_4266571  IP_6323321    1  35.0        4   \n",
       "\n",
       "       target  \n",
       "19232       0  \n",
       "13912       0  "
      ]
     },
     "metadata": {},
     "output_type": "display_data"
    },
    {
     "name": "stdout",
     "output_type": "stream",
     "text": [
      "True positives:\n"
     ]
    },
    {
     "data": {
      "text/html": [
       "<div>\n",
       "<style scoped>\n",
       "    .dataframe tbody tr th:only-of-type {\n",
       "        vertical-align: middle;\n",
       "    }\n",
       "\n",
       "    .dataframe tbody tr th {\n",
       "        vertical-align: top;\n",
       "    }\n",
       "\n",
       "    .dataframe thead th {\n",
       "        text-align: right;\n",
       "    }\n",
       "</style>\n",
       "<table border=\"1\" class=\"dataframe\">\n",
       "  <thead>\n",
       "    <tr style=\"text-align: right;\">\n",
       "      <th></th>\n",
       "      <th>y_pred</th>\n",
       "      <th>y_pred_binary</th>\n",
       "      <th>image_id</th>\n",
       "      <th>patient_id</th>\n",
       "      <th>sex</th>\n",
       "      <th>age</th>\n",
       "      <th>anatomy</th>\n",
       "      <th>target</th>\n",
       "    </tr>\n",
       "  </thead>\n",
       "  <tbody>\n",
       "    <tr>\n",
       "      <th>36605</th>\n",
       "      <td>1.0</td>\n",
       "      <td>1</td>\n",
       "      <td>ISIC_0065675</td>\n",
       "      <td>BCN_0001367</td>\n",
       "      <td>0</td>\n",
       "      <td>85.0</td>\n",
       "      <td>1</td>\n",
       "      <td>1</td>\n",
       "    </tr>\n",
       "    <tr>\n",
       "      <th>34698</th>\n",
       "      <td>1.0</td>\n",
       "      <td>1</td>\n",
       "      <td>ISIC_0033946</td>\n",
       "      <td>HAM_0007343</td>\n",
       "      <td>1</td>\n",
       "      <td>70.0</td>\n",
       "      <td>0</td>\n",
       "      <td>1</td>\n",
       "    </tr>\n",
       "  </tbody>\n",
       "</table>\n",
       "</div>"
      ],
      "text/plain": [
       "       y_pred  y_pred_binary      image_id   patient_id  sex   age  anatomy  \\\n",
       "36605     1.0              1  ISIC_0065675  BCN_0001367    0  85.0        1   \n",
       "34698     1.0              1  ISIC_0033946  HAM_0007343    1  70.0        0   \n",
       "\n",
       "       target  \n",
       "36605       1  \n",
       "34698       1  "
      ]
     },
     "metadata": {},
     "output_type": "display_data"
    },
    {
     "name": "stdout",
     "output_type": "stream",
     "text": [
      "False negatives:\n"
     ]
    },
    {
     "data": {
      "text/html": [
       "<div>\n",
       "<style scoped>\n",
       "    .dataframe tbody tr th:only-of-type {\n",
       "        vertical-align: middle;\n",
       "    }\n",
       "\n",
       "    .dataframe tbody tr th {\n",
       "        vertical-align: top;\n",
       "    }\n",
       "\n",
       "    .dataframe thead th {\n",
       "        text-align: right;\n",
       "    }\n",
       "</style>\n",
       "<table border=\"1\" class=\"dataframe\">\n",
       "  <thead>\n",
       "    <tr style=\"text-align: right;\">\n",
       "      <th></th>\n",
       "      <th>y_pred</th>\n",
       "      <th>y_pred_binary</th>\n",
       "      <th>image_id</th>\n",
       "      <th>patient_id</th>\n",
       "      <th>sex</th>\n",
       "      <th>age</th>\n",
       "      <th>anatomy</th>\n",
       "      <th>target</th>\n",
       "    </tr>\n",
       "  </thead>\n",
       "  <tbody>\n",
       "    <tr>\n",
       "      <th>35452</th>\n",
       "      <td>0.0</td>\n",
       "      <td>0</td>\n",
       "      <td>ISIC_0057889</td>\n",
       "      <td>BCN_0005637</td>\n",
       "      <td>1</td>\n",
       "      <td>70.0</td>\n",
       "      <td>1</td>\n",
       "      <td>1</td>\n",
       "    </tr>\n",
       "    <tr>\n",
       "      <th>33458</th>\n",
       "      <td>0.0</td>\n",
       "      <td>0</td>\n",
       "      <td>ISIC_0013696_downsampled</td>\n",
       "      <td>MSK4_0010736</td>\n",
       "      <td>1</td>\n",
       "      <td>70.0</td>\n",
       "      <td>3</td>\n",
       "      <td>1</td>\n",
       "    </tr>\n",
       "  </tbody>\n",
       "</table>\n",
       "</div>"
      ],
      "text/plain": [
       "       y_pred  y_pred_binary                  image_id    patient_id  sex  \\\n",
       "35452     0.0              0              ISIC_0057889   BCN_0005637    1   \n",
       "33458     0.0              0  ISIC_0013696_downsampled  MSK4_0010736    1   \n",
       "\n",
       "        age  anatomy  target  \n",
       "35452  70.0        1       1  \n",
       "33458  70.0        3       1  "
      ]
     },
     "metadata": {},
     "output_type": "display_data"
    },
    {
     "name": "stdout",
     "output_type": "stream",
     "text": [
      "False positives:\n"
     ]
    },
    {
     "data": {
      "text/html": [
       "<div>\n",
       "<style scoped>\n",
       "    .dataframe tbody tr th:only-of-type {\n",
       "        vertical-align: middle;\n",
       "    }\n",
       "\n",
       "    .dataframe tbody tr th {\n",
       "        vertical-align: top;\n",
       "    }\n",
       "\n",
       "    .dataframe thead th {\n",
       "        text-align: right;\n",
       "    }\n",
       "</style>\n",
       "<table border=\"1\" class=\"dataframe\">\n",
       "  <thead>\n",
       "    <tr style=\"text-align: right;\">\n",
       "      <th></th>\n",
       "      <th>y_pred</th>\n",
       "      <th>y_pred_binary</th>\n",
       "      <th>image_id</th>\n",
       "      <th>patient_id</th>\n",
       "      <th>sex</th>\n",
       "      <th>age</th>\n",
       "      <th>anatomy</th>\n",
       "      <th>target</th>\n",
       "    </tr>\n",
       "  </thead>\n",
       "  <tbody>\n",
       "    <tr>\n",
       "      <th>5813</th>\n",
       "      <td>1.0</td>\n",
       "      <td>1</td>\n",
       "      <td>ISIC_1845450</td>\n",
       "      <td>IP_1039004</td>\n",
       "      <td>0</td>\n",
       "      <td>75.0</td>\n",
       "      <td>1</td>\n",
       "      <td>0</td>\n",
       "    </tr>\n",
       "    <tr>\n",
       "      <th>28976</th>\n",
       "      <td>1.0</td>\n",
       "      <td>1</td>\n",
       "      <td>ISIC_8767074</td>\n",
       "      <td>IP_2107539</td>\n",
       "      <td>1</td>\n",
       "      <td>50.0</td>\n",
       "      <td>0</td>\n",
       "      <td>0</td>\n",
       "    </tr>\n",
       "  </tbody>\n",
       "</table>\n",
       "</div>"
      ],
      "text/plain": [
       "       y_pred  y_pred_binary      image_id  patient_id  sex   age  anatomy  \\\n",
       "5813      1.0              1  ISIC_1845450  IP_1039004    0  75.0        1   \n",
       "28976     1.0              1  ISIC_8767074  IP_2107539    1  50.0        0   \n",
       "\n",
       "       target  \n",
       "5813        0  \n",
       "28976       0  "
      ]
     },
     "metadata": {},
     "output_type": "display_data"
    }
   ],
   "source": [
    "n = 2\n",
    "print(\"True negatives:\")\n",
    "display(TN.sample(n))\n",
    "print(\"True positives:\")\n",
    "display(TP.sample(n))\n",
    "print(\"False negatives:\")\n",
    "display(FN.sample(n))\n",
    "print(\"False positives:\")\n",
    "display(FP.sample(n))"
   ]
  },
  {
   "cell_type": "markdown",
   "id": "08a3e68c",
   "metadata": {},
   "source": [
    "### Data processing"
   ]
  },
  {
   "cell_type": "code",
   "execution_count": 46,
   "id": "4b2dc901",
   "metadata": {},
   "outputs": [
    {
     "data": {
      "text/html": [
       "<div>\n",
       "<style scoped>\n",
       "    .dataframe tbody tr th:only-of-type {\n",
       "        vertical-align: middle;\n",
       "    }\n",
       "\n",
       "    .dataframe tbody tr th {\n",
       "        vertical-align: top;\n",
       "    }\n",
       "\n",
       "    .dataframe thead th {\n",
       "        text-align: right;\n",
       "    }\n",
       "</style>\n",
       "<table border=\"1\" class=\"dataframe\">\n",
       "  <thead>\n",
       "    <tr style=\"text-align: right;\">\n",
       "      <th></th>\n",
       "      <th>y_pred</th>\n",
       "      <th>y_pred_binary</th>\n",
       "      <th>image_id</th>\n",
       "      <th>patient_id</th>\n",
       "      <th>sex</th>\n",
       "      <th>age</th>\n",
       "      <th>anatomy</th>\n",
       "      <th>target</th>\n",
       "    </tr>\n",
       "  </thead>\n",
       "  <tbody>\n",
       "    <tr>\n",
       "      <th>0</th>\n",
       "      <td>0.000796</td>\n",
       "      <td>0</td>\n",
       "      <td>ISIC_2637011</td>\n",
       "      <td>IP_7279968</td>\n",
       "      <td>1</td>\n",
       "      <td>45.0</td>\n",
       "      <td>0</td>\n",
       "      <td>0</td>\n",
       "    </tr>\n",
       "    <tr>\n",
       "      <th>1</th>\n",
       "      <td>0.000073</td>\n",
       "      <td>0</td>\n",
       "      <td>ISIC_0015719</td>\n",
       "      <td>IP_3075186</td>\n",
       "      <td>0</td>\n",
       "      <td>45.0</td>\n",
       "      <td>5</td>\n",
       "      <td>0</td>\n",
       "    </tr>\n",
       "    <tr>\n",
       "      <th>2</th>\n",
       "      <td>0.000014</td>\n",
       "      <td>0</td>\n",
       "      <td>ISIC_0052212</td>\n",
       "      <td>IP_2842074</td>\n",
       "      <td>0</td>\n",
       "      <td>50.0</td>\n",
       "      <td>1</td>\n",
       "      <td>0</td>\n",
       "    </tr>\n",
       "    <tr>\n",
       "      <th>3</th>\n",
       "      <td>0.004735</td>\n",
       "      <td>0</td>\n",
       "      <td>ISIC_0068279</td>\n",
       "      <td>IP_6890425</td>\n",
       "      <td>0</td>\n",
       "      <td>45.0</td>\n",
       "      <td>0</td>\n",
       "      <td>0</td>\n",
       "    </tr>\n",
       "    <tr>\n",
       "      <th>4</th>\n",
       "      <td>0.000014</td>\n",
       "      <td>0</td>\n",
       "      <td>ISIC_0074268</td>\n",
       "      <td>IP_8723313</td>\n",
       "      <td>0</td>\n",
       "      <td>55.0</td>\n",
       "      <td>5</td>\n",
       "      <td>0</td>\n",
       "    </tr>\n",
       "  </tbody>\n",
       "</table>\n",
       "</div>"
      ],
      "text/plain": [
       "     y_pred  y_pred_binary      image_id  patient_id  sex   age  anatomy  \\\n",
       "0  0.000796              0  ISIC_2637011  IP_7279968    1  45.0        0   \n",
       "1  0.000073              0  ISIC_0015719  IP_3075186    0  45.0        5   \n",
       "2  0.000014              0  ISIC_0052212  IP_2842074    0  50.0        1   \n",
       "3  0.004735              0  ISIC_0068279  IP_6890425    0  45.0        0   \n",
       "4  0.000014              0  ISIC_0074268  IP_8723313    0  55.0        5   \n",
       "\n",
       "   target  \n",
       "0       0  \n",
       "1       0  \n",
       "2       0  \n",
       "3       0  \n",
       "4       0  "
      ]
     },
     "execution_count": 46,
     "metadata": {},
     "output_type": "execute_result"
    }
   ],
   "source": [
    "df = pd.DataFrame()\n",
    "df[\"y_pred\"] = prauc[\"oof\"]\n",
    "def binarize(x):\n",
    "    if x >= 0.5:\n",
    "        x = 1\n",
    "    else:\n",
    "        x = 0\n",
    "    return x\n",
    "df[\"y_pred_binary\"] = df[\"y_pred\"].apply(lambda x: binarize(x))\n",
    "df = pd.concat([df,train_df],axis=1)\n",
    "df.reset_index(inplace=True, drop=True)\n",
    "df.head()"
   ]
  },
  {
   "cell_type": "markdown",
   "id": "f36505d4",
   "metadata": {},
   "source": [
    "### Variant 2 confusion matrix"
   ]
  },
  {
   "cell_type": "code",
   "execution_count": 49,
   "id": "123add7b",
   "metadata": {},
   "outputs": [
    {
     "data": {
      "text/plain": [
       "<AxesSubplot:>"
      ]
     },
     "execution_count": 49,
     "metadata": {},
     "output_type": "execute_result"
    },
    {
     "data": {
      "image/png": "[encoded data removed]",
      "text/plain": [
       "<Figure size 1152x360 with 1 Axes>"
      ]
     },
     "metadata": {
      "needs_background": "light"
     },
     "output_type": "display_data"
    }
   ],
   "source": [
    "# Create Confusion Matrix\n",
    "cf_matrix = confusion_matrix(train_df['target'], df[\"y_pred_binary\"])\n",
    "\n",
    "# Pretty CM:\n",
    "group_names = ['True Neg','False Pos','False Neg','True Pos']\n",
    "# Format of the absolute numbers\n",
    "group_counts = ['{:,}'.format(value) for value in cf_matrix.flatten()]\n",
    "# Format for relative numbers\n",
    "group_percentages = ['{0:.1%}'.format(value) for value in cf_matrix.flatten()/np.sum(cf_matrix)]\n",
    "\n",
    "labels = [f'{v1}\\n{v2}\\n{v3}' for v1, v2, v3 in zip(group_names,group_counts,group_percentages)]\n",
    "labels = np.asarray(labels).reshape(2,2)\n",
    "\n",
    "# --- The figure ---\n",
    "plt.figure(figsize=(16, 5))\n",
    "sns.heatmap(cf_matrix, annot=labels, fmt='', cmap='Oranges',xticklabels=['benign', 'malignant'], \n",
    "            yticklabels=['benign', 'malignant'], cbar=False)"
   ]
  },
  {
   "cell_type": "markdown",
   "id": "c6a6ee7e",
   "metadata": {},
   "source": [
    "### True positives, False Positives, True Negatives, False Negatives"
   ]
  },
  {
   "cell_type": "code",
   "execution_count": 50,
   "id": "792801b3",
   "metadata": {},
   "outputs": [],
   "source": [
    "TP = []\n",
    "FP = []\n",
    "TN = []\n",
    "FN = []\n",
    "\n",
    "for index, row in df.iterrows():\n",
    "    y_pred = row[\"y_pred_binary\"]\n",
    "    y_true = row[\"target\"]\n",
    "    if y_true == y_pred == 1:\n",
    "        TP.append(row)\n",
    "    if y_pred==1 and y_true!=y_pred:\n",
    "        FP.append(row)\n",
    "    if y_true==y_pred==0:\n",
    "        TN.append(row)\n",
    "    if y_pred==0 and y_true!=y_pred:\n",
    "        FN.append(row)\n",
    "        \n",
    "TP = pd.DataFrame(TP)\n",
    "FP = pd.DataFrame(FP)\n",
    "TN = pd.DataFrame(TN)\n",
    "FN = pd.DataFrame(FN)"
   ]
  },
  {
   "cell_type": "markdown",
   "id": "f438d0d8",
   "metadata": {},
   "source": [
    "### Display small samples"
   ]
  },
  {
   "cell_type": "code",
   "execution_count": null,
   "id": "02d92279",
   "metadata": {},
   "outputs": [],
   "source": [
    "n = 3\n",
    "print(\"True negatives:\")\n",
    "display(TN.sample(n))\n",
    "print(\"True positives:\")\n",
    "display(TP.sample(n))\n",
    "print(\"False negatives:\")\n",
    "display(FN.sample(n))\n",
    "print(\"False positives:\")\n",
    "display(FP.sample(n))"
   ]
  },
  {
   "cell_type": "markdown",
   "id": "1d4c0b79",
   "metadata": {},
   "source": [
    "### Precision Recall ROC variant 2"
   ]
  },
  {
   "cell_type": "code",
   "execution_count": 54,
   "id": "901bd0e6",
   "metadata": {},
   "outputs": [
    {
     "name": "stdout",
     "output_type": "stream",
     "text": [
      "Model: f1=0.908 auc=0.919\n"
     ]
    },
    {
     "data": {
      "image/png": "[encoded data removed]",
      "text/plain": [
       "<Figure size 432x288 with 1 Axes>"
      ]
     },
     "metadata": {
      "needs_background": "light"
     },
     "output_type": "display_data"
    }
   ],
   "source": [
    "from sklearn.metrics import precision_recall_curve\n",
    "from sklearn.metrics import f1_score\n",
    "from sklearn.metrics import auc\n",
    "from matplotlib import pyplot\n",
    "\n",
    "\n",
    "precision, recall, _ = precision_recall_curve(df[\"target\"], df[\"y_pred_binary\"])\n",
    "f1, auc = f1_score(df[\"target\"], df[\"y_pred_binary\"]), auc(recall, precision)\n",
    "# summarize scores\n",
    "print('Model: f1=%.3f auc=%.3f' % (f1, auc))\n",
    "# plot the precision-recall curves\n",
    "no_skill = len(df[\"target\"][df[\"target\"]==0]) / len(df[\"target\"])\n",
    "pyplot.plot([0, 1], [no_skill, no_skill], linestyle='--', label='No Skill')\n",
    "pyplot.plot(recall, precision, marker='.', label='Model')\n",
    "# axis labels\n",
    "pyplot.xlabel('Recall')\n",
    "pyplot.ylabel('Precision')\n",
    "# show the legend\n",
    "pyplot.legend()\n",
    "# show the plot\n",
    "pyplot.show()"
   ]
  },
  {
   "cell_type": "markdown",
   "id": "7b08fd39",
   "metadata": {},
   "source": [
    "### Predictions\n",
    "\n",
    "The `predictions.csv` file contains predictions for the whole training dataset made by the best model (production model). This is different to OOF predictions as this file's predictions are made by the best model at each epoch on the validation set."
   ]
  },
  {
   "cell_type": "code",
   "execution_count": 19,
   "id": "00d0acdc",
   "metadata": {},
   "outputs": [
    {
     "data": {
      "text/html": [
       "<div>\n",
       "<style scoped>\n",
       "    .dataframe tbody tr th:only-of-type {\n",
       "        vertical-align: middle;\n",
       "    }\n",
       "\n",
       "    .dataframe tbody tr th {\n",
       "        vertical-align: top;\n",
       "    }\n",
       "\n",
       "    .dataframe thead th {\n",
       "        text-align: right;\n",
       "    }\n",
       "</style>\n",
       "<table border=\"1\" class=\"dataframe\">\n",
       "  <thead>\n",
       "    <tr style=\"text-align: right;\">\n",
       "      <th></th>\n",
       "      <th>y_pred</th>\n",
       "      <th>y_pred_binary</th>\n",
       "    </tr>\n",
       "  </thead>\n",
       "  <tbody>\n",
       "    <tr>\n",
       "      <th>0</th>\n",
       "      <td>0.021607</td>\n",
       "      <td>0</td>\n",
       "    </tr>\n",
       "    <tr>\n",
       "      <th>1</th>\n",
       "      <td>0.000109</td>\n",
       "      <td>0</td>\n",
       "    </tr>\n",
       "    <tr>\n",
       "      <th>2</th>\n",
       "      <td>0.000034</td>\n",
       "      <td>0</td>\n",
       "    </tr>\n",
       "    <tr>\n",
       "      <th>3</th>\n",
       "      <td>0.012842</td>\n",
       "      <td>0</td>\n",
       "    </tr>\n",
       "    <tr>\n",
       "      <th>4</th>\n",
       "      <td>0.000005</td>\n",
       "      <td>0</td>\n",
       "    </tr>\n",
       "  </tbody>\n",
       "</table>\n",
       "</div>"
      ],
      "text/plain": [
       "     y_pred  y_pred_binary\n",
       "0  0.021607              0\n",
       "1  0.000109              0\n",
       "2  0.000034              0\n",
       "3  0.012842              0\n",
       "4  0.000005              0"
      ]
     },
     "execution_count": 19,
     "metadata": {},
     "output_type": "execute_result"
    }
   ],
   "source": [
    "predictions = pd.read_csv(\"predictions.csv\", sep =',')\n",
    "predictions.columns = [\"y_pred\"]\n",
    "predictions[\"y_pred_binary\"] = predictions[\"y_pred\"].apply(lambda x: binarize(x))\n",
    "predictions.head()"
   ]
  },
  {
   "cell_type": "code",
   "execution_count": 21,
   "id": "3747a201",
   "metadata": {},
   "outputs": [
    {
     "data": {
      "text/plain": [
       "Text(0.5, 1.0, 'Model predictions histogram')"
      ]
     },
     "execution_count": 21,
     "metadata": {},
     "output_type": "execute_result"
    },
    {
     "data": {
      "image/png": "[encoded data removed]",
      "text/plain": [
       "<Figure size 432x288 with 1 Axes>"
      ]
     },
     "metadata": {
      "needs_background": "light"
     },
     "output_type": "display_data"
    }
   ],
   "source": [
    "plt.hist(predictions[\"y_pred\"])\n",
    "plt.xlabel(\"Model prediction\")\n",
    "plt.ylabel(\"Frequency\")\n",
    "plt.title(\"Model predictions histogram\")"
   ]
  },
  {
   "cell_type": "code",
   "execution_count": 14,
   "id": "327abf10",
   "metadata": {},
   "outputs": [
    {
     "data": {
      "text/plain": [
       "Text(0.5, 1.0, 'Model predictions histogram')"
      ]
     },
     "execution_count": 14,
     "metadata": {},
     "output_type": "execute_result"
    },
    {
     "data": {
      "image/png": "[encoded data removed]",
      "text/plain": [
       "<Figure size 432x288 with 1 Axes>"
      ]
     },
     "metadata": {
      "needs_background": "light"
     },
     "output_type": "display_data"
    }
   ],
   "source": [
    "plt.hist(prauc[\"oof\"])\n"
   ]
  },
  {
   "cell_type": "code",
   "execution_count": 24,
   "id": "a9c64d05",
   "metadata": {},
   "outputs": [
    {
     "data": {
      "text/plain": [
       "Text(123.0, 0.5, 'Actual')"
      ]
     },
     "execution_count": 24,
     "metadata": {},
     "output_type": "execute_result"
    },
    {
     "data": {
      "image/png": "[encoded data removed]",
      "text/plain": [
       "<Figure size 1152x360 with 1 Axes>"
      ]
     },
     "metadata": {
      "needs_background": "light"
     },
     "output_type": "display_data"
    }
   ],
   "source": [
    "# Create Confusion Matrix\n",
    "cf_matrix = confusion_matrix(train_df['target'], predictions[\"y_pred_binary\"])\n",
    "\n",
    "# Pretty CM:\n",
    "group_names = ['True Neg','False Pos','False Neg','True Pos']\n",
    "# Format of the absolute numbers\n",
    "group_counts = ['{:,}'.format(value) for value in cf_matrix.flatten()]\n",
    "# Format for relative numbers\n",
    "group_percentages = ['{0:.1%}'.format(value) for value in cf_matrix.flatten()/np.sum(cf_matrix)]\n",
    "\n",
    "labels = [f'{v1}\\n{v2}\\n{v3}' for v1, v2, v3 in zip(group_names,group_counts,group_percentages)]\n",
    "labels = np.asarray(labels).reshape(2,2)\n",
    "\n",
    "# --- The figure ---\n",
    "plt.figure(figsize=(16, 5))\n",
    "sns.heatmap(cf_matrix, annot=labels, fmt='', cmap='Oranges',xticklabels=['benign', 'malignant'], \n",
    "            yticklabels=['benign', 'malignant'], cbar=False)\n",
    "plt.xlabel(\"Predicted\")\n",
    "plt.xlabel(\"Predicted\")\n",
    "plt.ylabel(\"Actual\")"
   ]
  },
  {
   "cell_type": "code",
   "execution_count": null,
   "id": "cf791315",
   "metadata": {},
   "outputs": [],
   "source": []
  }
 ],
 "metadata": {
  "kernelspec": {
   "display_name": "Python 3 (ipykernel)",
   "language": "python",
   "name": "python3"
  },
  "language_info": {
   "codemirror_mode": {
    "name": "ipython",
    "version": 3
   },
   "file_extension": ".py",
   "mimetype": "text/x-python",
   "name": "python",
   "nbconvert_exporter": "python",
   "pygments_lexer": "ipython3",
   "version": "3.9.7"
  }
 },
 "nbformat": 4,
 "nbformat_minor": 5
}
