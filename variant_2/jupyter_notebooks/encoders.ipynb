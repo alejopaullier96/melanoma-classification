{
 "cells": [
  {
   "cell_type": "markdown",
   "id": "b1b5df80",
   "metadata": {},
   "source": [
    "### Import libraries"
   ]
  },
  {
   "cell_type": "code",
   "execution_count": 13,
   "id": "f25f81d1",
   "metadata": {},
   "outputs": [],
   "source": [
    "import numpy as np\n",
    "import os\n",
    "import pandas as pd\n",
    "import pickle\n",
    "\n",
    "\n",
    "from pathlib import Path"
   ]
  },
  {
   "cell_type": "markdown",
   "id": "267f4484",
   "metadata": {},
   "source": [
    "### Load Label Encoders"
   ]
  },
  {
   "cell_type": "code",
   "execution_count": 14,
   "id": "b7ce0eda",
   "metadata": {},
   "outputs": [],
   "source": [
    "def load_label_encoder(label_encoder_path):\n",
    "    \"\"\"\n",
    "    Load LabelEncoder pickle from the encoders folder.\n",
    "    :param label_encoder_path: path to pickled LabelEncoder.\n",
    "    :return: LabelEncoder\n",
    "    \"\"\"\n",
    "    with open(label_encoder_path, 'rb') as f:\n",
    "        label_encoder = pickle.load(f)\n",
    "\n",
    "    return label_encoder\n",
    "\n",
    "\n",
    "path = Path(os.getcwd())\n",
    "PATH = str(path.parent.absolute()) + \"/container/encoders/\"\n",
    "le_anatomy = load_label_encoder(PATH + \"label_encoder_anatomy.pkl\")\n",
    "le_sex = load_label_encoder(PATH + \"label_encoder_sex.pkl\")"
   ]
  },
  {
   "cell_type": "markdown",
   "id": "cfc64dad",
   "metadata": {},
   "source": [
    "### Classes"
   ]
  },
  {
   "cell_type": "code",
   "execution_count": 15,
   "id": "689b4613",
   "metadata": {
    "scrolled": true
   },
   "outputs": [
    {
     "name": "stdout",
     "output_type": "stream",
     "text": [
      "Anatomy Label Encoder classes: [0, 1, 2, 3, 4, 5, 6, 7, 9]\n",
      "Sex Label Encoder classes: [0, 1, 2]\n"
     ]
    }
   ],
   "source": [
    "print(f\"Anatomy Label Encoder classes: {le_anatomy.classes_.tolist()}\")\n",
    "print(f\"Sex Label Encoder classes: {le_sex.classes_.tolist()}\")"
   ]
  }
 ],
 "metadata": {
  "kernelspec": {
   "display_name": "Python 3 (ipykernel)",
   "language": "python",
   "name": "python3"
  },
  "language_info": {
   "codemirror_mode": {
    "name": "ipython",
    "version": 3
   },
   "file_extension": ".py",
   "mimetype": "text/x-python",
   "name": "python",
   "nbconvert_exporter": "python",
   "pygments_lexer": "ipython3",
   "version": "3.9.7"
  }
 },
 "nbformat": 4,
 "nbformat_minor": 5
}
