{
 "cells": [
  {
   "cell_type": "markdown",
   "id": "dd21c963",
   "metadata": {},
   "source": [
    "### Import libraries"
   ]
  },
  {
   "cell_type": "code",
   "execution_count": 7,
   "id": "e054746f",
   "metadata": {},
   "outputs": [],
   "source": [
    "import numpy as np\n",
    "import os\n",
    "import pandas as pd\n",
    "\n",
    "\n",
    "from sklearn.model_selection import StratifiedGroupKFold"
   ]
  },
  {
   "cell_type": "markdown",
   "id": "c527f638",
   "metadata": {},
   "source": [
    "### Paths"
   ]
  },
  {
   "cell_type": "code",
   "execution_count": 3,
   "id": "9d6cdba0",
   "metadata": {},
   "outputs": [],
   "source": [
    "TRAIN_PATH = '/Users/alejopaullier/Desktop/alejo/aidmed/data/melanoma-classification/train.csv'\n",
    "TEST_PATH = '/Users/alejopaullier/Desktop/alejo/aidmed/data/melanoma-classification/test.csv'"
   ]
  },
  {
   "cell_type": "markdown",
   "id": "e57aec79",
   "metadata": {},
   "source": [
    "### Load data"
   ]
  },
  {
   "cell_type": "code",
   "execution_count": 4,
   "id": "69bb5ee1",
   "metadata": {},
   "outputs": [
    {
     "data": {
      "text/html": [
       "<div>\n",
       "<style scoped>\n",
       "    .dataframe tbody tr th:only-of-type {\n",
       "        vertical-align: middle;\n",
       "    }\n",
       "\n",
       "    .dataframe tbody tr th {\n",
       "        vertical-align: top;\n",
       "    }\n",
       "\n",
       "    .dataframe thead th {\n",
       "        text-align: right;\n",
       "    }\n",
       "</style>\n",
       "<table border=\"1\" class=\"dataframe\">\n",
       "  <thead>\n",
       "    <tr style=\"text-align: right;\">\n",
       "      <th></th>\n",
       "      <th>image_name</th>\n",
       "      <th>patient_id</th>\n",
       "      <th>sex</th>\n",
       "      <th>age_approx</th>\n",
       "      <th>anatom_site_general_challenge</th>\n",
       "      <th>diagnosis</th>\n",
       "      <th>benign_malignant</th>\n",
       "      <th>target</th>\n",
       "    </tr>\n",
       "  </thead>\n",
       "  <tbody>\n",
       "    <tr>\n",
       "      <th>0</th>\n",
       "      <td>ISIC_2637011</td>\n",
       "      <td>IP_7279968</td>\n",
       "      <td>male</td>\n",
       "      <td>45.0</td>\n",
       "      <td>head/neck</td>\n",
       "      <td>unknown</td>\n",
       "      <td>benign</td>\n",
       "      <td>0</td>\n",
       "    </tr>\n",
       "    <tr>\n",
       "      <th>1</th>\n",
       "      <td>ISIC_0015719</td>\n",
       "      <td>IP_3075186</td>\n",
       "      <td>female</td>\n",
       "      <td>45.0</td>\n",
       "      <td>upper extremity</td>\n",
       "      <td>unknown</td>\n",
       "      <td>benign</td>\n",
       "      <td>0</td>\n",
       "    </tr>\n",
       "    <tr>\n",
       "      <th>2</th>\n",
       "      <td>ISIC_0052212</td>\n",
       "      <td>IP_2842074</td>\n",
       "      <td>female</td>\n",
       "      <td>50.0</td>\n",
       "      <td>lower extremity</td>\n",
       "      <td>nevus</td>\n",
       "      <td>benign</td>\n",
       "      <td>0</td>\n",
       "    </tr>\n",
       "    <tr>\n",
       "      <th>3</th>\n",
       "      <td>ISIC_0068279</td>\n",
       "      <td>IP_6890425</td>\n",
       "      <td>female</td>\n",
       "      <td>45.0</td>\n",
       "      <td>head/neck</td>\n",
       "      <td>unknown</td>\n",
       "      <td>benign</td>\n",
       "      <td>0</td>\n",
       "    </tr>\n",
       "    <tr>\n",
       "      <th>4</th>\n",
       "      <td>ISIC_0074268</td>\n",
       "      <td>IP_8723313</td>\n",
       "      <td>female</td>\n",
       "      <td>55.0</td>\n",
       "      <td>upper extremity</td>\n",
       "      <td>unknown</td>\n",
       "      <td>benign</td>\n",
       "      <td>0</td>\n",
       "    </tr>\n",
       "  </tbody>\n",
       "</table>\n",
       "</div>"
      ],
      "text/plain": [
       "     image_name  patient_id     sex  age_approx anatom_site_general_challenge  \\\n",
       "0  ISIC_2637011  IP_7279968    male        45.0                     head/neck   \n",
       "1  ISIC_0015719  IP_3075186  female        45.0               upper extremity   \n",
       "2  ISIC_0052212  IP_2842074  female        50.0               lower extremity   \n",
       "3  ISIC_0068279  IP_6890425  female        45.0                     head/neck   \n",
       "4  ISIC_0074268  IP_8723313  female        55.0               upper extremity   \n",
       "\n",
       "  diagnosis benign_malignant  target  \n",
       "0   unknown           benign       0  \n",
       "1   unknown           benign       0  \n",
       "2     nevus           benign       0  \n",
       "3   unknown           benign       0  \n",
       "4   unknown           benign       0  "
      ]
     },
     "metadata": {},
     "output_type": "display_data"
    },
    {
     "data": {
      "text/html": [
       "<div>\n",
       "<style scoped>\n",
       "    .dataframe tbody tr th:only-of-type {\n",
       "        vertical-align: middle;\n",
       "    }\n",
       "\n",
       "    .dataframe tbody tr th {\n",
       "        vertical-align: top;\n",
       "    }\n",
       "\n",
       "    .dataframe thead th {\n",
       "        text-align: right;\n",
       "    }\n",
       "</style>\n",
       "<table border=\"1\" class=\"dataframe\">\n",
       "  <thead>\n",
       "    <tr style=\"text-align: right;\">\n",
       "      <th></th>\n",
       "      <th>image_name</th>\n",
       "      <th>patient_id</th>\n",
       "      <th>sex</th>\n",
       "      <th>age_approx</th>\n",
       "      <th>anatom_site_general_challenge</th>\n",
       "    </tr>\n",
       "  </thead>\n",
       "  <tbody>\n",
       "    <tr>\n",
       "      <th>0</th>\n",
       "      <td>ISIC_0052060</td>\n",
       "      <td>IP_3579794</td>\n",
       "      <td>male</td>\n",
       "      <td>70.0</td>\n",
       "      <td>NaN</td>\n",
       "    </tr>\n",
       "    <tr>\n",
       "      <th>1</th>\n",
       "      <td>ISIC_0052349</td>\n",
       "      <td>IP_7782715</td>\n",
       "      <td>male</td>\n",
       "      <td>40.0</td>\n",
       "      <td>lower extremity</td>\n",
       "    </tr>\n",
       "    <tr>\n",
       "      <th>2</th>\n",
       "      <td>ISIC_0058510</td>\n",
       "      <td>IP_7960270</td>\n",
       "      <td>female</td>\n",
       "      <td>55.0</td>\n",
       "      <td>torso</td>\n",
       "    </tr>\n",
       "    <tr>\n",
       "      <th>3</th>\n",
       "      <td>ISIC_0073313</td>\n",
       "      <td>IP_6375035</td>\n",
       "      <td>female</td>\n",
       "      <td>50.0</td>\n",
       "      <td>torso</td>\n",
       "    </tr>\n",
       "    <tr>\n",
       "      <th>4</th>\n",
       "      <td>ISIC_0073502</td>\n",
       "      <td>IP_0589375</td>\n",
       "      <td>female</td>\n",
       "      <td>45.0</td>\n",
       "      <td>lower extremity</td>\n",
       "    </tr>\n",
       "  </tbody>\n",
       "</table>\n",
       "</div>"
      ],
      "text/plain": [
       "     image_name  patient_id     sex  age_approx anatom_site_general_challenge\n",
       "0  ISIC_0052060  IP_3579794    male        70.0                           NaN\n",
       "1  ISIC_0052349  IP_7782715    male        40.0               lower extremity\n",
       "2  ISIC_0058510  IP_7960270  female        55.0                         torso\n",
       "3  ISIC_0073313  IP_6375035  female        50.0                         torso\n",
       "4  ISIC_0073502  IP_0589375  female        45.0               lower extremity"
      ]
     },
     "metadata": {},
     "output_type": "display_data"
    }
   ],
   "source": [
    "train_df = pd.read_csv(TRAIN_PATH, sep=',')\n",
    "test_df = pd.read_csv(TEST_PATH, sep=',')\n",
    "display(train_df.head())\n",
    "display(test_df.head())"
   ]
  },
  {
   "cell_type": "code",
   "execution_count": 8,
   "id": "ede889fa",
   "metadata": {},
   "outputs": [],
   "source": [
    "def create_folds(df, k):\n",
    "    \"\"\"\n",
    "    Creates folds for training.\n",
    "    :param df: a dataframe with a \"target\" column and an \"patient_id\" column.\n",
    "    :param k: number of folds\n",
    "    :return: folds\n",
    "    \"\"\"\n",
    "    # Create Object\n",
    "    group_fold = StratifiedGroupKFold(n_splits = k)\n",
    "\n",
    "    length = len(df)\n",
    "\n",
    "    # Generate indices to split data into training and test set.\n",
    "    folds = group_fold.split(X = np.zeros(length),\n",
    "                             y = df['target'],\n",
    "                             groups = df['patient_id'].tolist())\n",
    "    return folds"
   ]
  },
  {
   "cell_type": "code",
   "execution_count": 18,
   "id": "1aa86bb6",
   "metadata": {},
   "outputs": [
    {
     "name": "stdout",
     "output_type": "stream",
     "text": [
      "====== Fold 0 ======\n",
      "Train set: 1.762463675133034 % malignant (467) and 98.23753632486697 % benign (26030)\n",
      "Train set: 1.764972092321617 % malignant (117) and 98.23502790767839 % benign (6512)\n",
      "====== Fold 1 ======\n",
      "Train set: 1.766171031775983 % malignant (468) and 98.23382896822402 % benign (26030)\n",
      "Train set: 1.7501508750754375 % malignant (116) and 98.24984912492457 % benign (6512)\n",
      "====== Fold 2 ======\n",
      "Train set: 1.7616658493341886 % malignant (467) and 98.2383341506658 % benign (26042)\n",
      "Train set: 1.768172888015717 % malignant (117) and 98.23182711198429 % benign (6500)\n",
      "====== Fold 3 ======\n",
      "Train set: 1.766304347826087 % malignant (468) and 98.2336956521739 % benign (26028)\n",
      "Train set: 1.7496229260935143 % malignant (116) and 98.25037707390648 % benign (6514)\n",
      "====== Fold 4 ======\n",
      "Train set: 1.758225173558708 % malignant (466) and 98.2417748264413 % benign (26038)\n",
      "Train set: 1.7819389912413168 % malignant (118) and 98.21806100875868 % benign (6504)\n"
     ]
    }
   ],
   "source": [
    "folds = create_folds(train_df, 5)\n",
    "\n",
    "def sep():\n",
    "    print(\"-\"*117)\n",
    "    \n",
    "\n",
    "def target_distribution(df):\n",
    "    neg_count = df.target.value_counts()[0]\n",
    "    pos_count = df.target.value_counts()[1]\n",
    "    neg_perc = neg_count/(neg_count+pos_count)\n",
    "    pos_perc = pos_count/(neg_count+pos_count)\n",
    "    \n",
    "    return pos_perc*100, neg_perc*100, pos_count, neg_count\n",
    "    \n",
    "for fold, (train_index, valid_index) in enumerate(folds):\n",
    "    print(f\"====== Fold {fold} ======\")\n",
    "    train_set = train_df.iloc[train_index].reset_index(drop=True)\n",
    "    valid_set = train_df.iloc[valid_index].reset_index(drop=True)\n",
    "    pos_perc, neg_perc, pos_count, neg_count = target_distribution(train_set)\n",
    "    print(f\"Train set: {pos_perc} % malignant ({pos_count}) and {neg_perc} % benign ({neg_count})\")\n",
    "    pos_perc, neg_perc, pos_count, neg_count = target_distribution(valid_set)\n",
    "    print(f\"Train set: {pos_perc} % malignant ({pos_count}) and {neg_perc} % benign ({neg_count})\")\n",
    "    print(f\"Train set has {})\n",
    "    "
   ]
  },
  {
   "cell_type": "code",
   "execution_count": 20,
   "id": "2bf9fa07",
   "metadata": {},
   "outputs": [
    {
     "data": {
      "text/plain": [
       "410"
      ]
     },
     "execution_count": 20,
     "metadata": {},
     "output_type": "execute_result"
    }
   ],
   "source": [
    "train_set.patient_id.nunique()\n",
    "valid_set.patient_id.nunique()"
   ]
  },
  {
   "cell_type": "code",
   "execution_count": null,
   "id": "1ccac35f",
   "metadata": {},
   "outputs": [],
   "source": []
  }
 ],
 "metadata": {
  "kernelspec": {
   "display_name": "Python 3 (ipykernel)",
   "language": "python",
   "name": "python3"
  },
  "language_info": {
   "codemirror_mode": {
    "name": "ipython",
    "version": 3
   },
   "file_extension": ".py",
   "mimetype": "text/x-python",
   "name": "python",
   "nbconvert_exporter": "python",
   "pygments_lexer": "ipython3",
   "version": "3.9.7"
  }
 },
 "nbformat": 4,
 "nbformat_minor": 5
}
