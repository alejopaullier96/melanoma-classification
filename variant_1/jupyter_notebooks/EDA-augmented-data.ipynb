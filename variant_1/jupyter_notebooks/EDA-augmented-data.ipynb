{
 "cells": [
  {
   "cell_type": "markdown",
   "id": "6eae9436",
   "metadata": {},
   "source": [
    "# EDA (augmented dataset)\n",
    "\n",
    "[Source](https://www.kaggle.com/competitions/siim-isic-melanoma-classification/discussion/159101)\n",
    "\n",
    "> Hello everyone.\n",
    ">\n",
    ">I have created a dataset which (partially) solves a class imbalance of the provided data.\n",
    "As you know the original competition data has ~98% of benign cases and only ~2% of malignant.\n",
    ">\n",
    ">So I have scrapped only malignant melanoma images from the 2019 ISIC competition and added them to original dataset, which leaves us with ~86% benign and ~14% malignant cases.\n",
    ">\n",
    ">Then all images were center cropped and resized to 256x256.\n",
    "I also have a kernel which uses this dataset and score 0.925 on the LB.\n",
    "\n"
   ]
  },
  {
   "cell_type": "markdown",
   "id": "f08b6f5c",
   "metadata": {},
   "source": [
    "### Import libraries"
   ]
  },
  {
   "cell_type": "code",
   "execution_count": 1,
   "id": "41a32a4a",
   "metadata": {},
   "outputs": [],
   "source": [
    "import numpy as np\n",
    "import os\n",
    "import pandas as pd\n",
    "\n",
    "\n",
    "from sklearn.metrics import accuracy_score, roc_auc_score\n",
    "from sklearn.model_selection import StratifiedGroupKFold"
   ]
  },
  {
   "cell_type": "markdown",
   "id": "e0436442",
   "metadata": {},
   "source": [
    "### Utils"
   ]
  },
  {
   "cell_type": "code",
   "execution_count": 2,
   "id": "169ecb3e",
   "metadata": {},
   "outputs": [],
   "source": [
    "def sep():\n",
    "    print(\"-\"*117)"
   ]
  },
  {
   "cell_type": "markdown",
   "id": "f8693324",
   "metadata": {},
   "source": [
    "### Paths"
   ]
  },
  {
   "cell_type": "code",
   "execution_count": 3,
   "id": "33e01c19",
   "metadata": {},
   "outputs": [],
   "source": [
    "TRAIN_PATH = '/Users/alejopaullier/Desktop/alejo/aidmed/data/melanoma-classification/train_clean.csv'\n",
    "TEST_PATH = '/Users/alejopaullier/Desktop/alejo/aidmed/data/melanoma-classification/test_clean.csv'"
   ]
  },
  {
   "cell_type": "markdown",
   "id": "55d77188",
   "metadata": {},
   "source": [
    "### Load data"
   ]
  },
  {
   "cell_type": "code",
   "execution_count": 4,
   "id": "589e390c",
   "metadata": {},
   "outputs": [
    {
     "data": {
      "text/html": [
       "<div>\n",
       "<style scoped>\n",
       "    .dataframe tbody tr th:only-of-type {\n",
       "        vertical-align: middle;\n",
       "    }\n",
       "\n",
       "    .dataframe tbody tr th {\n",
       "        vertical-align: top;\n",
       "    }\n",
       "\n",
       "    .dataframe thead th {\n",
       "        text-align: right;\n",
       "    }\n",
       "</style>\n",
       "<table border=\"1\" class=\"dataframe\">\n",
       "  <thead>\n",
       "    <tr style=\"text-align: right;\">\n",
       "      <th></th>\n",
       "      <th>dcm_name</th>\n",
       "      <th>ID</th>\n",
       "      <th>sex</th>\n",
       "      <th>age</th>\n",
       "      <th>anatomy</th>\n",
       "      <th>target</th>\n",
       "    </tr>\n",
       "  </thead>\n",
       "  <tbody>\n",
       "    <tr>\n",
       "      <th>0</th>\n",
       "      <td>ISIC_2637011</td>\n",
       "      <td>IP_7279968</td>\n",
       "      <td>0.022217</td>\n",
       "      <td>0.999753</td>\n",
       "      <td>0.000000</td>\n",
       "      <td>0</td>\n",
       "    </tr>\n",
       "    <tr>\n",
       "      <th>1</th>\n",
       "      <td>ISIC_0015719</td>\n",
       "      <td>IP_3075186</td>\n",
       "      <td>0.000000</td>\n",
       "      <td>0.993884</td>\n",
       "      <td>0.110432</td>\n",
       "      <td>0</td>\n",
       "    </tr>\n",
       "    <tr>\n",
       "      <th>2</th>\n",
       "      <td>ISIC_0052212</td>\n",
       "      <td>IP_2842074</td>\n",
       "      <td>0.000000</td>\n",
       "      <td>0.999800</td>\n",
       "      <td>0.019996</td>\n",
       "      <td>0</td>\n",
       "    </tr>\n",
       "    <tr>\n",
       "      <th>3</th>\n",
       "      <td>ISIC_0068279</td>\n",
       "      <td>IP_6890425</td>\n",
       "      <td>0.000000</td>\n",
       "      <td>1.000000</td>\n",
       "      <td>0.000000</td>\n",
       "      <td>0</td>\n",
       "    </tr>\n",
       "    <tr>\n",
       "      <th>4</th>\n",
       "      <td>ISIC_0074268</td>\n",
       "      <td>IP_8723313</td>\n",
       "      <td>0.000000</td>\n",
       "      <td>0.995893</td>\n",
       "      <td>0.090536</td>\n",
       "      <td>0</td>\n",
       "    </tr>\n",
       "  </tbody>\n",
       "</table>\n",
       "</div>"
      ],
      "text/plain": [
       "       dcm_name          ID       sex       age   anatomy  target\n",
       "0  ISIC_2637011  IP_7279968  0.022217  0.999753  0.000000       0\n",
       "1  ISIC_0015719  IP_3075186  0.000000  0.993884  0.110432       0\n",
       "2  ISIC_0052212  IP_2842074  0.000000  0.999800  0.019996       0\n",
       "3  ISIC_0068279  IP_6890425  0.000000  1.000000  0.000000       0\n",
       "4  ISIC_0074268  IP_8723313  0.000000  0.995893  0.090536       0"
      ]
     },
     "metadata": {},
     "output_type": "display_data"
    },
    {
     "data": {
      "text/html": [
       "<div>\n",
       "<style scoped>\n",
       "    .dataframe tbody tr th:only-of-type {\n",
       "        vertical-align: middle;\n",
       "    }\n",
       "\n",
       "    .dataframe tbody tr th {\n",
       "        vertical-align: top;\n",
       "    }\n",
       "\n",
       "    .dataframe thead th {\n",
       "        text-align: right;\n",
       "    }\n",
       "</style>\n",
       "<table border=\"1\" class=\"dataframe\">\n",
       "  <thead>\n",
       "    <tr style=\"text-align: right;\">\n",
       "      <th></th>\n",
       "      <th>dcm_name</th>\n",
       "      <th>ID</th>\n",
       "      <th>sex</th>\n",
       "      <th>age</th>\n",
       "      <th>anatomy</th>\n",
       "    </tr>\n",
       "  </thead>\n",
       "  <tbody>\n",
       "    <tr>\n",
       "      <th>0</th>\n",
       "      <td>ISIC_0052060</td>\n",
       "      <td>IP_3579794</td>\n",
       "      <td>0.014261</td>\n",
       "      <td>0.998270</td>\n",
       "      <td>0.057044</td>\n",
       "    </tr>\n",
       "    <tr>\n",
       "      <th>1</th>\n",
       "      <td>ISIC_0052349</td>\n",
       "      <td>IP_7782715</td>\n",
       "      <td>0.024984</td>\n",
       "      <td>0.999376</td>\n",
       "      <td>0.024984</td>\n",
       "    </tr>\n",
       "    <tr>\n",
       "      <th>2</th>\n",
       "      <td>ISIC_0058510</td>\n",
       "      <td>IP_7960270</td>\n",
       "      <td>0.000000</td>\n",
       "      <td>0.997366</td>\n",
       "      <td>0.072536</td>\n",
       "    </tr>\n",
       "    <tr>\n",
       "      <th>3</th>\n",
       "      <td>ISIC_0073313</td>\n",
       "      <td>IP_6375035</td>\n",
       "      <td>0.000000</td>\n",
       "      <td>0.996815</td>\n",
       "      <td>0.079745</td>\n",
       "    </tr>\n",
       "    <tr>\n",
       "      <th>4</th>\n",
       "      <td>ISIC_0073502</td>\n",
       "      <td>IP_0589375</td>\n",
       "      <td>0.000000</td>\n",
       "      <td>0.999753</td>\n",
       "      <td>0.022217</td>\n",
       "    </tr>\n",
       "  </tbody>\n",
       "</table>\n",
       "</div>"
      ],
      "text/plain": [
       "       dcm_name          ID       sex       age   anatomy\n",
       "0  ISIC_0052060  IP_3579794  0.014261  0.998270  0.057044\n",
       "1  ISIC_0052349  IP_7782715  0.024984  0.999376  0.024984\n",
       "2  ISIC_0058510  IP_7960270  0.000000  0.997366  0.072536\n",
       "3  ISIC_0073313  IP_6375035  0.000000  0.996815  0.079745\n",
       "4  ISIC_0073502  IP_0589375  0.000000  0.999753  0.022217"
      ]
     },
     "metadata": {},
     "output_type": "display_data"
    },
    {
     "name": "stdout",
     "output_type": "stream",
     "text": [
      "Train dataframe has 37648 rows and 6 columns\n",
      "---------------------------------------------------------------------------------------------------------------------\n",
      "Test dataframe has 10982 rows and 5 columns\n",
      "---------------------------------------------------------------------------------------------------------------------\n",
      "Train dataframe has 32542 benignant and 5106 malignant\n",
      "---------------------------------------------------------------------------------------------------------------------\n"
     ]
    },
    {
     "data": {
      "text/plain": [
       "(None, None)"
      ]
     },
     "execution_count": 4,
     "metadata": {},
     "output_type": "execute_result"
    }
   ],
   "source": [
    "train_df = pd.read_csv(TRAIN_PATH, sep=',')\n",
    "test_df = pd.read_csv(TEST_PATH, sep=',')\n",
    "display(train_df.head())\n",
    "display(test_df.head())\n",
    "print(f\"Train dataframe has {train_df.shape[0]} rows and {train_df.shape[1]} columns\"), sep()\n",
    "print(f\"Test dataframe has {test_df.shape[0]} rows and {test_df.shape[1]} columns\"), sep()\n",
    "print(f\"Train dataframe has {train_df.target.value_counts()[0]} benignant and {train_df.target.value_counts()[1]} malignant\"), sep()"
   ]
  },
  {
   "cell_type": "markdown",
   "id": "14808cae",
   "metadata": {},
   "source": [
    "### Validation"
   ]
  },
  {
   "cell_type": "code",
   "execution_count": 5,
   "id": "a3e16232",
   "metadata": {},
   "outputs": [],
   "source": [
    "def create_folds(df, k):\n",
    "    \"\"\"\n",
    "    Creates folds for training.\n",
    "    :param df: a dataframe with a \"target\" column and an \"patient_id\" column.\n",
    "    :param k: number of folds\n",
    "    :return: folds\n",
    "    \"\"\"\n",
    "    # Create Object\n",
    "    group_fold = StratifiedGroupKFold(n_splits = k)\n",
    "\n",
    "    length = len(df)\n",
    "\n",
    "    # Generate indices to split data into training and test set.\n",
    "    folds = group_fold.split(X = np.zeros(length),\n",
    "                             y = df['target'],\n",
    "                             groups = df['patient_id'].tolist())\n",
    "    return folds\n",
    "\n",
    "\n",
    "def target_distribution(df):\n",
    "    neg_count = df.target.value_counts()[0]\n",
    "    pos_count = df.target.value_counts()[1]\n",
    "    neg_perc = neg_count/(neg_count+pos_count)\n",
    "    pos_perc = pos_count/(neg_count+pos_count)\n",
    "    \n",
    "    return pos_perc*100, neg_perc*100, pos_count, neg_count"
   ]
  },
  {
   "cell_type": "markdown",
   "id": "edec0e72",
   "metadata": {},
   "source": [
    "### Create folds"
   ]
  },
  {
   "cell_type": "code",
   "execution_count": 6,
   "id": "75aa2f97",
   "metadata": {},
   "outputs": [
    {
     "name": "stdout",
     "output_type": "stream",
     "text": [
      "====== Fold 0 ======\n",
      "Train set size is: 30118\n",
      "Validation set size is: 7530\n",
      "Train set: 13.559997343781127 % malignant (4084) and 86.44000265621887 % benign (26034)\n",
      "Validation set: 13.572377158034529 % malignant (1022) and 86.42762284196547 % benign (6508)\n",
      "Train set has 2736 unique patients\n",
      "Validation set has 659 unique patients\n",
      "\n",
      "\n",
      "====== Fold 1 ======\n",
      "Train set size is: 30116\n",
      "Validation set size is: 7532\n",
      "Train set: 13.560897861601806 % malignant (4084) and 86.4391021383982 % benign (26032)\n",
      "Validation set: 13.568773234200743 % malignant (1022) and 86.43122676579925 % benign (6510)\n",
      "Train set has 2713 unique patients\n",
      "Validation set has 682 unique patients\n",
      "\n",
      "\n",
      "====== Fold 2 ======\n",
      "Train set size is: 30115\n",
      "Validation set size is: 7533\n",
      "Train set: 13.564668769716087 % malignant (4085) and 86.43533123028391 % benign (26030)\n",
      "Validation set: 13.553697066241869 % malignant (1021) and 86.44630293375813 % benign (6512)\n",
      "Train set has 2712 unique patients\n",
      "Validation set has 683 unique patients\n",
      "\n",
      "\n",
      "====== Fold 3 ======\n",
      "Train set size is: 30120\n",
      "Validation set size is: 7528\n",
      "Train set: 13.565737051792828 % malignant (4086) and 86.43426294820718 % benign (26034)\n",
      "Validation set: 13.54941551540914 % malignant (1020) and 86.45058448459086 % benign (6508)\n",
      "Train set has 2705 unique patients\n",
      "Validation set has 690 unique patients\n",
      "\n",
      "\n",
      "====== Fold 4 ======\n",
      "Train set size is: 30123\n",
      "Validation set size is: 7525\n",
      "Train set: 13.56106629485775 % malignant (4085) and 86.43893370514225 % benign (26038)\n",
      "Validation set: 13.568106312292358 % malignant (1021) and 86.43189368770764 % benign (6504)\n",
      "Train set has 2714 unique patients\n",
      "Validation set has 681 unique patients\n",
      "\n",
      "\n"
     ]
    }
   ],
   "source": [
    "folds = create_folds(train_df, 5)\n",
    "\n",
    "    \n",
    "for fold, (train_index, valid_index) in enumerate(folds):\n",
    "    print(f\"====== Fold {fold} ======\")\n",
    "    train_set = train_df.iloc[train_index].reset_index(drop=True)\n",
    "    valid_set = train_df.iloc[valid_index].reset_index(drop=True)\n",
    "    print(f\"Train set size is: {train_set.shape[0]}\")\n",
    "    print(f\"Validation set size is: {valid_set.shape[0]}\")\n",
    "    pos_perc, neg_perc, pos_count, neg_count = target_distribution(train_set)\n",
    "    print(f\"Train set: {pos_perc} % malignant ({pos_count}) and {neg_perc} % benign ({neg_count})\")\n",
    "    pos_perc, neg_perc, pos_count, neg_count = target_distribution(valid_set)\n",
    "    print(f\"Validation set: {pos_perc} % malignant ({pos_count}) and {neg_perc} % benign ({neg_count})\")\n",
    "    print(f\"Train set has {train_set.patient_id.nunique()} unique patients\")\n",
    "    print(f\"Validation set has {valid_set.patient_id.nunique()} unique patients\")\n",
    "    print(\"\\n\")\n",
    "    "
   ]
  },
  {
   "cell_type": "markdown",
   "id": "24b3764d",
   "metadata": {},
   "source": [
    "### Baseline accuracy"
   ]
  },
  {
   "cell_type": "code",
   "execution_count": null,
   "id": "5dc790d2",
   "metadata": {},
   "outputs": [],
   "source": [
    "\n",
    "acc_score = accuracy_score(y_holdout, np.zeros_like(y_holdout))\n",
    "auc_score = roc_auc_score(y_holdout, np.zeros_like(y_holdout))"
   ]
  }
 ],
 "metadata": {
  "kernelspec": {
   "display_name": "Python 3 (ipykernel)",
   "language": "python",
   "name": "python3"
  },
  "language_info": {
   "codemirror_mode": {
    "name": "ipython",
    "version": 3
   },
   "file_extension": ".py",
   "mimetype": "text/x-python",
   "name": "python",
   "nbconvert_exporter": "python",
   "pygments_lexer": "ipython3",
   "version": "3.9.7"
  }
 },
 "nbformat": 4,
 "nbformat_minor": 5
}
